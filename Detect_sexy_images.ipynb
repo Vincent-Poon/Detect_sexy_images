{
 "cells": [
  {
   "cell_type": "code",
   "execution_count": 1,
   "metadata": {},
   "outputs": [],
   "source": [
    "%matplotlib inline\n",
    "\n",
    "import os\n",
    "import warnings\n",
    "\n",
    "import numpy as np\n",
    "import matplotlib.pyplot as plt\n",
    "import cv2\n",
    "\n",
    "from tensorflow.keras.models import Model, load_model\n",
    "from tensorflow.keras.layers import Input, Dense, Conv2D, MaxPooling2D, Flatten, Dropout\n",
    "from tensorflow.keras.optimizers import Adam, SGD\n",
    "from tensorflow.keras.applications import VGG16\n",
    "\n",
    "from sklearn.model_selection import train_test_split\n",
    "# Note: Using Tensorflow 2"
   ]
  },
  {
   "cell_type": "markdown",
   "metadata": {},
   "source": [
    "## Data Processing and Normalization"
   ]
  },
  {
   "cell_type": "code",
   "execution_count": 3,
   "metadata": {},
   "outputs": [],
   "source": [
    "# Load data\n",
    "input_size = 160\n",
    "\n",
    "x_data = []\n",
    "y_data = []\n",
    "path_data = './data/'\n",
    "\n",
    "# Đọc ảnh thư mục trong sáng, resize ảnh cho phù hợp đầu vào mạng, chuẩn hóa, thêm vào list chứa dữ liệu\n",
    "for i_name in os.listdir(path_data + '0'):\n",
    "    im = cv2.imread(path_data + '0/' + i_name)\n",
    "    im_resize = cv2.resize(im, (input_size, input_size))\n",
    "    im_resize = im_resize/255\n",
    "    x_data.append(im_resize)\n",
    "    y_data.append([0])\n",
    "# Đọc ảnh thư mục gợi cảm, resize ảnh cho phù hợp đầu vào mạng, chuẩn hóa, thêm vào list chứa dữ liệu\n",
    "for i_name in os.listdir(path_data + '1'):\n",
    "    im = cv2.imread(path_data + '1/' + i_name)\n",
    "    im_resize = cv2.resize(im, (input_size, input_size))\n",
    "    im_resize = im_resize/255\n",
    "    x_data.append(im_resize)\n",
    "    y_data.append([1])\n",
    "    \n",
    "print('Finished loading')"
   ]
  },
  {
   "cell_type": "code",
   "execution_count": 4,
   "metadata": {},
   "outputs": [
    {
     "name": "stdout",
     "output_type": "stream",
     "text": [
      "(704, 160, 160, 3)\n",
      "(704, 1)\n"
     ]
    }
   ],
   "source": [
    "# Images to array\n",
    "x_data = np.array(x_data)\n",
    "y_data = np.array(y_data)\n",
    "np.save('./data/x_data.npy', x_data)\n",
    "np.save('./data/y_data.npy', y_data)\n",
    "print(x_data.shape)\n",
    "print(y_data.shape)"
   ]
  },
  {
   "cell_type": "code",
   "execution_count": 10,
   "metadata": {},
   "outputs": [],
   "source": [
    "# Load data\n",
    "x_data = np.load('./data/x_data.npy')\n",
    "y_data = np.load('./data/y_data.npy')"
   ]
  },
  {
   "cell_type": "code",
   "execution_count": 11,
   "metadata": {},
   "outputs": [
    {
     "name": "stdout",
     "output_type": "stream",
     "text": [
      "(633, 160, 160, 3)\n",
      "(633, 1)\n",
      "(71, 160, 160, 3)\n",
      "(71, 1)\n"
     ]
    }
   ],
   "source": [
    "# Chia dữ liệu ra làm 2 phần: 1 phần để train, 1 phần để đánh giá\n",
    "x_train, x_val, y_train, y_val = train_test_split(x_data, y_data, test_size=0.1, random_state=0)\n",
    "print(x_train.shape)\n",
    "print(y_train.shape)\n",
    "print(x_val.shape)\n",
    "print(y_val.shape)"
   ]
  },
  {
   "cell_type": "markdown",
   "metadata": {},
   "source": [
    "## 1. Build a model CNN for Classification"
   ]
  },
  {
   "cell_type": "code",
   "execution_count": 12,
   "metadata": {},
   "outputs": [
    {
     "name": "stdout",
     "output_type": "stream",
     "text": [
      "Model: \"model_1\"\n",
      "_________________________________________________________________\n",
      "Layer (type)                 Output Shape              Param #   \n",
      "=================================================================\n",
      "input_2 (InputLayer)         [(None, 160, 160, 3)]     0         \n",
      "_________________________________________________________________\n",
      "conv2d_4 (Conv2D)            (None, 160, 160, 32)      896       \n",
      "_________________________________________________________________\n",
      "max_pooling2d_4 (MaxPooling2 (None, 80, 80, 32)        0         \n",
      "_________________________________________________________________\n",
      "conv2d_5 (Conv2D)            (None, 80, 80, 64)        18496     \n",
      "_________________________________________________________________\n",
      "max_pooling2d_5 (MaxPooling2 (None, 40, 40, 64)        0         \n",
      "_________________________________________________________________\n",
      "conv2d_6 (Conv2D)            (None, 40, 40, 128)       73856     \n",
      "_________________________________________________________________\n",
      "max_pooling2d_6 (MaxPooling2 (None, 20, 20, 128)       0         \n",
      "_________________________________________________________________\n",
      "conv2d_7 (Conv2D)            (None, 20, 20, 128)       147584    \n",
      "_________________________________________________________________\n",
      "max_pooling2d_7 (MaxPooling2 (None, 10, 10, 128)       0         \n",
      "_________________________________________________________________\n",
      "flatten_1 (Flatten)          (None, 12800)             0         \n",
      "_________________________________________________________________\n",
      "dropout_1 (Dropout)          (None, 12800)             0         \n",
      "_________________________________________________________________\n",
      "dense_3 (Dense)              (None, 512)               6554112   \n",
      "_________________________________________________________________\n",
      "dense_4 (Dense)              (None, 256)               131328    \n",
      "_________________________________________________________________\n",
      "dense_5 (Dense)              (None, 1)                 257       \n",
      "=================================================================\n",
      "Total params: 6,926,529\n",
      "Trainable params: 6,926,529\n",
      "Non-trainable params: 0\n",
      "_________________________________________________________________\n"
     ]
    }
   ],
   "source": [
    "# Define model\n",
    "input_size = 160\n",
    "\n",
    "input_layer = Input(shape=(input_size, input_size, 3))\n",
    "conv_1 = Conv2D(32, (3, 3), activation='relu', padding='same')(input_layer)\n",
    "maxpool_1 = MaxPooling2D((2, 2))(conv_1)\n",
    "conv_2 = Conv2D(64, (3, 3), activation='relu', padding='same')(maxpool_1)\n",
    "maxpool_2 = MaxPooling2D((2, 2))(conv_2)\n",
    "conv_3 = Conv2D(128, (3, 3), activation='relu', padding='same')(maxpool_2)\n",
    "maxpool_3 = MaxPooling2D((2, 2))(conv_3)\n",
    "conv_4 = Conv2D(128, (3, 3), activation='relu', padding='same')(maxpool_3)\n",
    "maxpool_4 = MaxPooling2D((2, 2))(conv_4)\n",
    "flatten = Flatten()(maxpool_4)\n",
    "dropout = Dropout(0.5)(flatten)\n",
    "fully_1 = Dense(512, activation='relu')(dropout)\n",
    "fully_2 = Dense(256, activation='relu')(fully_1)\n",
    "output_layer = Dense(1, activation='sigmoid')(fully_2)\n",
    "\n",
    "model = Model(input_layer, output_layer)\n",
    "\n",
    "#opt = SGD(lr=0.001, momentum=0.9) # SGD Optimizer\n",
    "model.compile(optimizer='adam', loss='binary_crossentropy', metrics=['accuracy'])\n",
    "model.summary()"
   ]
  },
  {
   "cell_type": "code",
   "execution_count": 24,
   "metadata": {},
   "outputs": [
    {
     "name": "stdout",
     "output_type": "stream",
     "text": [
      "Train on 633 samples, validate on 71 samples\n",
      "Epoch 1/3\n",
      "633/633 [==============================] - 17s 26ms/sample - loss: 0.4935 - accuracy: 0.7646 - val_loss: 0.6016 - val_accuracy: 0.6901\n",
      "Epoch 2/3\n",
      "633/633 [==============================] - 17s 26ms/sample - loss: 0.4791 - accuracy: 0.7472 - val_loss: 0.5842 - val_accuracy: 0.7324\n",
      "Epoch 3/3\n",
      "633/633 [==============================] - 17s 26ms/sample - loss: 0.4336 - accuracy: 0.8025 - val_loss: 0.6351 - val_accuracy: 0.6901\n"
     ]
    }
   ],
   "source": [
    "# Training model\n",
    "history = model.fit(x_train, y_train, verbose=1, epochs=3, validation_data=(x_val, y_val), shuffle=True, batch_size=32)"
   ]
  },
  {
   "cell_type": "code",
   "execution_count": 27,
   "metadata": {},
   "outputs": [
    {
     "name": "stdout",
     "output_type": "stream",
     "text": [
      "71/1 [==================================================================================================================================================================================================================================================================================================================================================================================================================================================================================================================================================================================================================================================================================================================================================================================================================================================================================================================================================================================================================================================================================================================================================================================================================================================================================================================================================================================================================================================================================================================================================================================================================================================================================================================================================================================================================================================================================================================================================================================================================================================================================================================================================================================================================] - 1s 8ms/sample - loss: 0.8478 - accuracy: 0.6901\n",
      "accuracy =  0.69014084\n"
     ]
    }
   ],
   "source": [
    "# Evaluate model\n",
    "loss_val, acc_val = model.evaluate(x_val, y_val)\n",
    "print(\"accuracy = \",acc_val)"
   ]
  },
  {
   "cell_type": "code",
   "execution_count": 28,
   "metadata": {},
   "outputs": [
    {
     "name": "stdout",
     "output_type": "stream",
     "text": [
      "DONE\n"
     ]
    }
   ],
   "source": [
    "# Save model\n",
    "model.save('./models/model.h5')\n",
    "print(\"DONE\")"
   ]
  },
  {
   "cell_type": "markdown",
   "metadata": {},
   "source": [
    "## 2. Using VGG16 pre-trained for transfer learning"
   ]
  },
  {
   "cell_type": "code",
   "execution_count": 2,
   "metadata": {},
   "outputs": [
    {
     "name": "stdout",
     "output_type": "stream",
     "text": [
      "Model loaded.\n"
     ]
    }
   ],
   "source": [
    "# Load model VGG16\n",
    "base_model = VGG16(weights='imagenet', include_top=False)\n",
    "print('Model loaded.')"
   ]
  },
  {
   "cell_type": "code",
   "execution_count": 15,
   "metadata": {},
   "outputs": [
    {
     "name": "stdout",
     "output_type": "stream",
     "text": [
      "Finished loading\n"
     ]
    }
   ],
   "source": [
    "# Load data\n",
    "#input_size = 244 # Original VGG16 train on Imagenet\n",
    "input_size = 150\n",
    "\n",
    "x_data = []\n",
    "y_data = []\n",
    "path_data = './data/'\n",
    "\n",
    "# Đọc ảnh thư mục trong sáng, resize ảnh cho phù hợp đầu vào mạng, chuẩn hóa, thêm vào list chứa dữ liệu\n",
    "for i_name in os.listdir(path_data + '0'):\n",
    "    im = cv2.imread(path_data + '0/' + i_name)\n",
    "    im = cv2.cvtColor(im, cv2.COLOR_BGR2RGB)\n",
    "    im_resize = cv2.resize(im, (input_size, input_size)) * 1.0\n",
    "    im_resize -= [123.68, 116.779, 103.939]\n",
    "    x_data.append(im_resize)\n",
    "    y_data.append([0])\n",
    "# Đọc ảnh thư mục gợi cảm, resize ảnh cho phù hợp đầu vào mạng, chuẩn hóa, thêm vào list chứa dữ liệu\n",
    "for i_name in os.listdir(path_data + '1'):\n",
    "    im = cv2.imread(path_data + '1/' + i_name)\n",
    "    im = cv2.cvtColor(im, cv2.COLOR_BGR2RGB)\n",
    "    im_resize = cv2.resize(im, (input_size, input_size)) * 1.0\n",
    "    im_resize -= [123.68, 116.779, 103.939]\n",
    "    x_data.append(im_resize)\n",
    "    y_data.append([1])\n",
    "    \n",
    "print('Finished loading')"
   ]
  },
  {
   "cell_type": "code",
   "execution_count": 16,
   "metadata": {},
   "outputs": [
    {
     "name": "stdout",
     "output_type": "stream",
     "text": [
      "(704, 150, 150, 3)\n",
      "(704, 1)\n"
     ]
    }
   ],
   "source": [
    "# Images to array\n",
    "x_data = np.array(x_data)\n",
    "y_data = np.array(y_data)\n",
    "#np.save('./data/x_data.npy', x_data)\n",
    "#np.save('./data/y_data.npy', y_data)\n",
    "print(x_data.shape)\n",
    "print(y_data.shape)"
   ]
  },
  {
   "cell_type": "code",
   "execution_count": 50,
   "metadata": {},
   "outputs": [
    {
     "name": "stdout",
     "output_type": "stream",
     "text": [
      "(633, 150, 150, 3)\n",
      "(633, 1)\n",
      "(71, 150, 150, 3)\n",
      "(71, 1)\n"
     ]
    }
   ],
   "source": [
    "# Chia dữ liệu ra làm 2 phần: 1 phần để train, 1 phần để đánh giá\n",
    "x_train, x_val, y_train, y_val = train_test_split(x_data, y_data, test_size=0.1, random_state=0)\n",
    "print(x_train.shape)\n",
    "print(y_train.shape)\n",
    "print(x_val.shape)\n",
    "print(y_val.shape)"
   ]
  },
  {
   "cell_type": "code",
   "execution_count": 58,
   "metadata": {},
   "outputs": [
    {
     "name": "stdout",
     "output_type": "stream",
     "text": [
      "label saved\n"
     ]
    }
   ],
   "source": [
    "np.save('./data/x_train.npy', x_train)\n",
    "np.save('./data/y_train.npy', y_train)\n",
    "np.save('./data/x_val.npy', x_val)\n",
    "np.save('./data/y_val.npy', y_val)\n",
    "print('label saved')"
   ]
  },
  {
   "cell_type": "code",
   "execution_count": 24,
   "metadata": {},
   "outputs": [
    {
     "name": "stdout",
     "output_type": "stream",
     "text": [
      "(633, 4, 4, 512)\n",
      "(71, 4, 4, 512)\n"
     ]
    }
   ],
   "source": [
    "# Feature Extract\n",
    "Feature_x_train = base_model.predict(x_train)\n",
    "np.save('./data/Feature_x_train.npy', Feature_x_train)\n",
    "print(Feature_x_train.shape)\n",
    "Feature_x_val = base_model.predict(x_val)\n",
    "np.save('./data/Feature_x_val.npy', Feature_x_val)\n",
    "print(Feature_x_val.shape)"
   ]
  },
  {
   "cell_type": "code",
   "execution_count": 26,
   "metadata": {},
   "outputs": [
    {
     "name": "stdout",
     "output_type": "stream",
     "text": [
      "(633, 4, 4, 512)\n",
      "(633, 1)\n",
      "(71, 4, 4, 512)\n",
      "(71, 1)\n"
     ]
    }
   ],
   "source": [
    "# Load data\n",
    "Feature_x_train = np.load('./data/Feature_x_train.npy')\n",
    "Feature_x_val = np.load('./data/Feature_x_val.npy')\n",
    "y_train = np.load('./data/y_train.npy')\n",
    "y_val = np.load('./data/y_val.npy')\n",
    "print(Feature_x_train.shape)\n",
    "print(y_train.shape)\n",
    "print(Feature_x_val.shape)\n",
    "print(y_val.shape)"
   ]
  },
  {
   "cell_type": "code",
   "execution_count": 27,
   "metadata": {},
   "outputs": [
    {
     "name": "stdout",
     "output_type": "stream",
     "text": [
      "Model: \"model_2\"\n",
      "_________________________________________________________________\n",
      "Layer (type)                 Output Shape              Param #   \n",
      "=================================================================\n",
      "input_4 (InputLayer)         [(None, 4, 4, 512)]       0         \n",
      "_________________________________________________________________\n",
      "flatten_2 (Flatten)          (None, 8192)              0         \n",
      "_________________________________________________________________\n",
      "dense_4 (Dense)              (None, 256)               2097408   \n",
      "_________________________________________________________________\n",
      "dropout_2 (Dropout)          (None, 256)               0         \n",
      "_________________________________________________________________\n",
      "dense_5 (Dense)              (None, 1)                 257       \n",
      "=================================================================\n",
      "Total params: 2,097,665\n",
      "Trainable params: 2,097,665\n",
      "Non-trainable params: 0\n",
      "_________________________________________________________________\n"
     ]
    }
   ],
   "source": [
    "# Define model classification\n",
    "input_layer = Input(shape=Feature_x_train.shape[1:])\n",
    "flat_1 = Flatten()(input_layer)\n",
    "fully_1 = Dense(256, activation='relu')(flat_1)\n",
    "drop_1 = Dropout(0.5)(fully_1)\n",
    "output_layer = Dense(1, activation='sigmoid')(drop_1)\n",
    "\n",
    "fc_model = Model(input_layer, output_layer)\n",
    "\n",
    "fc_model.compile(optimizer='rmsprop',\n",
    "              loss='binary_crossentropy',\n",
    "              metrics=['accuracy'])\n",
    "fc_model.summary()"
   ]
  },
  {
   "cell_type": "code",
   "execution_count": 43,
   "metadata": {},
   "outputs": [
    {
     "name": "stdout",
     "output_type": "stream",
     "text": [
      "Train on 633 samples, validate on 71 samples\n",
      "633/633 [==============================] - 1s 2ms/sample - loss: 1.5342e-08 - accuracy: 1.0000 - val_loss: 5.7076 - val_accuracy: 0.9014\n"
     ]
    },
    {
     "data": {
      "text/plain": [
       "<tensorflow.python.keras.callbacks.History at 0x3c0fb390>"
      ]
     },
     "execution_count": 43,
     "metadata": {},
     "output_type": "execute_result"
    }
   ],
   "source": [
    "#Training model\n",
    "fc_model.fit(Feature_x_train, y_train, epochs=1, batch_size=16, validation_data=(Feature_x_val, y_val))"
   ]
  },
  {
   "cell_type": "code",
   "execution_count": 45,
   "metadata": {},
   "outputs": [
    {
     "name": "stdout",
     "output_type": "stream",
     "text": [
      "model saved\n"
     ]
    }
   ],
   "source": [
    "# Save model\n",
    "fc_model.save_weights('./models/fc_model.h5')\n",
    "print(\"model saved\")"
   ]
  },
  {
   "cell_type": "markdown",
   "metadata": {},
   "source": [
    "### Final model"
   ]
  },
  {
   "cell_type": "code",
   "execution_count": 47,
   "metadata": {},
   "outputs": [
    {
     "name": "stdout",
     "output_type": "stream",
     "text": [
      "Model loaded.\n"
     ]
    }
   ],
   "source": [
    "# dimensions of our images.\n",
    "img_width, img_height = 150, 150\n",
    "\n",
    "# Load VGG16 model\n",
    "vgg16 = VGG16(weights='imagenet', include_top=False, input_shape=(img_width, img_height, 3))\n",
    "print('Model loaded.')"
   ]
  },
  {
   "cell_type": "code",
   "execution_count": 48,
   "metadata": {},
   "outputs": [
    {
     "name": "stdout",
     "output_type": "stream",
     "text": [
      "Builded model\n"
     ]
    }
   ],
   "source": [
    "# build a classifier model to put on top of the convolutional model\n",
    "input_layer = Input(shape=vgg16.output_shape[1:])\n",
    "flat_1 = Flatten()(input_layer)\n",
    "fully_1 = Dense(256, activation='relu')(flat_1)\n",
    "drop_1 = Dropout(0.5)(fully_1)\n",
    "output_layer = Dense(1, activation='sigmoid')(drop_1)\n",
    "\n",
    "top_model = Model(input_layer, output_layer)\n",
    "\n",
    "top_model.load_weights('./models/fc_model.h5')\n",
    "\n",
    "print(\"Builded model\")"
   ]
  },
  {
   "cell_type": "code",
   "execution_count": 49,
   "metadata": {},
   "outputs": [
    {
     "name": "stdout",
     "output_type": "stream",
     "text": [
      "Model: \"model_4\"\n",
      "_________________________________________________________________\n",
      "Layer (type)                 Output Shape              Param #   \n",
      "=================================================================\n",
      "input_5 (InputLayer)         [(None, 150, 150, 3)]     0         \n",
      "_________________________________________________________________\n",
      "block1_conv1 (Conv2D)        (None, 150, 150, 64)      1792      \n",
      "_________________________________________________________________\n",
      "block1_conv2 (Conv2D)        (None, 150, 150, 64)      36928     \n",
      "_________________________________________________________________\n",
      "block1_pool (MaxPooling2D)   (None, 75, 75, 64)        0         \n",
      "_________________________________________________________________\n",
      "block2_conv1 (Conv2D)        (None, 75, 75, 128)       73856     \n",
      "_________________________________________________________________\n",
      "block2_conv2 (Conv2D)        (None, 75, 75, 128)       147584    \n",
      "_________________________________________________________________\n",
      "block2_pool (MaxPooling2D)   (None, 37, 37, 128)       0         \n",
      "_________________________________________________________________\n",
      "block3_conv1 (Conv2D)        (None, 37, 37, 256)       295168    \n",
      "_________________________________________________________________\n",
      "block3_conv2 (Conv2D)        (None, 37, 37, 256)       590080    \n",
      "_________________________________________________________________\n",
      "block3_conv3 (Conv2D)        (None, 37, 37, 256)       590080    \n",
      "_________________________________________________________________\n",
      "block3_pool (MaxPooling2D)   (None, 18, 18, 256)       0         \n",
      "_________________________________________________________________\n",
      "block4_conv1 (Conv2D)        (None, 18, 18, 512)       1180160   \n",
      "_________________________________________________________________\n",
      "block4_conv2 (Conv2D)        (None, 18, 18, 512)       2359808   \n",
      "_________________________________________________________________\n",
      "block4_conv3 (Conv2D)        (None, 18, 18, 512)       2359808   \n",
      "_________________________________________________________________\n",
      "block4_pool (MaxPooling2D)   (None, 9, 9, 512)         0         \n",
      "_________________________________________________________________\n",
      "block5_conv1 (Conv2D)        (None, 9, 9, 512)         2359808   \n",
      "_________________________________________________________________\n",
      "block5_conv2 (Conv2D)        (None, 9, 9, 512)         2359808   \n",
      "_________________________________________________________________\n",
      "block5_conv3 (Conv2D)        (None, 9, 9, 512)         2359808   \n",
      "_________________________________________________________________\n",
      "block5_pool (MaxPooling2D)   (None, 4, 4, 512)         0         \n",
      "_________________________________________________________________\n",
      "model_3 (Model)              (None, 1)                 2097665   \n",
      "=================================================================\n",
      "Total params: 16,812,353\n",
      "Trainable params: 16,812,353\n",
      "Non-trainable params: 0\n",
      "_________________________________________________________________\n"
     ]
    }
   ],
   "source": [
    "# Final model\n",
    "final_model = Model(inputs=vgg16.input, outputs=top_model(vgg16.output))\n",
    "final_model.summary()"
   ]
  },
  {
   "cell_type": "code",
   "execution_count": 53,
   "metadata": {},
   "outputs": [],
   "source": [
    "# set the first 15 layers (up to the last conv block)\n",
    "# to non-trainable (weights will not be updated)\n",
    "for layer in final_model.layers[:15]:\n",
    "    layer.trainable = False\n",
    "\n",
    "# compile the model with a SGD/momentum optimizer\n",
    "# and a very slow learning rate.\n",
    "final_model.compile(loss='binary_crossentropy', optimizer=SGD(lr=0.00001, momentum=0.9), metrics=['accuracy'])"
   ]
  },
  {
   "cell_type": "code",
   "execution_count": 54,
   "metadata": {},
   "outputs": [
    {
     "name": "stdout",
     "output_type": "stream",
     "text": [
      "\r",
      "71/1 [==================================================================================================================================================================================================================================================================================================================================================================================================================================================================================================================================================================================================================================================================================================================================================================================================================================================================================================================================================================================================================================================================================================================================================================================================================================================================================================================================================================================================================================================================================================================================================================================================================================================================================================================================================================================================================================================================================================================================================================================================================================================================================================================================================================================================================] - 5s 73ms/sample - loss: 5.3940 - accuracy: 0.9014\n"
     ]
    },
    {
     "data": {
      "text/plain": [
       "[5.707606483513201, 0.90140843]"
      ]
     },
     "execution_count": 54,
     "metadata": {},
     "output_type": "execute_result"
    }
   ],
   "source": [
    "# Test final model\n",
    "final_model.evaluate(x_val, y_val)"
   ]
  },
  {
   "cell_type": "code",
   "execution_count": 57,
   "metadata": {},
   "outputs": [
    {
     "name": "stdout",
     "output_type": "stream",
     "text": [
      "model saved\n"
     ]
    }
   ],
   "source": [
    "# Save final model\n",
    "final_model.save('./models/final_model.h5')\n",
    "print(\"model saved\")"
   ]
  },
  {
   "cell_type": "code",
   "execution_count": null,
   "metadata": {},
   "outputs": [],
   "source": []
  }
 ],
 "metadata": {
  "kernelspec": {
   "display_name": "tensor2",
   "language": "python",
   "name": "tensor2"
  },
  "language_info": {
   "codemirror_mode": {
    "name": "ipython",
    "version": 3
   },
   "file_extension": ".py",
   "mimetype": "text/x-python",
   "name": "python",
   "nbconvert_exporter": "python",
   "pygments_lexer": "ipython3",
   "version": "3.6.9"
  }
 },
 "nbformat": 4,
 "nbformat_minor": 2
}
