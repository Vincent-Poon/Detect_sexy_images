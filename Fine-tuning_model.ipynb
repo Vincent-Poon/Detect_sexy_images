{
 "cells": [
  {
   "cell_type": "code",
   "execution_count": 1,
   "metadata": {},
   "outputs": [],
   "source": [
    "%matplotlib inline\n",
    "\n",
    "import numpy as np\n",
    "import pandas as pd\n",
    "import matplotlib.pyplot as plt\n",
    "import cv2\n",
    "import os\n",
    "\n",
    "from tensorflow.keras.models import load_model\n",
    "\n",
    "from sklearn.model_selection import train_test_split"
   ]
  },
  {
   "cell_type": "code",
   "execution_count": 15,
   "metadata": {},
   "outputs": [],
   "source": [
    "def plot_loss(history):\n",
    "    historydf = pd.DataFrame(history.history, index=history.epoch)\n",
    "    plt.figure(figsize=(8, 6))\n",
    "    historydf.plot(ylim=(0, historydf.values.max()))\n",
    "    plt.title('Loss: %.3f' % history.history['loss'][-1])\n",
    "    \n",
    "def plot_loss_accuracy(history):\n",
    "    historydf = pd.DataFrame(history.history, index=history.epoch)\n",
    "    plt.figure(figsize=(8, 6))\n",
    "    historydf.plot(ylim=(0, max(1, historydf.values.max())))\n",
    "    loss = history.history['loss'][-1]\n",
    "    acc = history.history['accuracy'][-1]\n",
    "    plt.title('Loss: %.3f, Accuracy: %.3f' % (loss, acc))"
   ]
  },
  {
   "cell_type": "code",
   "execution_count": 2,
   "metadata": {},
   "outputs": [
    {
     "name": "stdout",
     "output_type": "stream",
     "text": [
      "Model: \"model_4\"\n",
      "_________________________________________________________________\n",
      "Layer (type)                 Output Shape              Param #   \n",
      "=================================================================\n",
      "input_5 (InputLayer)         [(None, 150, 150, 3)]     0         \n",
      "_________________________________________________________________\n",
      "block1_conv1 (Conv2D)        (None, 150, 150, 64)      1792      \n",
      "_________________________________________________________________\n",
      "block1_conv2 (Conv2D)        (None, 150, 150, 64)      36928     \n",
      "_________________________________________________________________\n",
      "block1_pool (MaxPooling2D)   (None, 75, 75, 64)        0         \n",
      "_________________________________________________________________\n",
      "block2_conv1 (Conv2D)        (None, 75, 75, 128)       73856     \n",
      "_________________________________________________________________\n",
      "block2_conv2 (Conv2D)        (None, 75, 75, 128)       147584    \n",
      "_________________________________________________________________\n",
      "block2_pool (MaxPooling2D)   (None, 37, 37, 128)       0         \n",
      "_________________________________________________________________\n",
      "block3_conv1 (Conv2D)        (None, 37, 37, 256)       295168    \n",
      "_________________________________________________________________\n",
      "block3_conv2 (Conv2D)        (None, 37, 37, 256)       590080    \n",
      "_________________________________________________________________\n",
      "block3_conv3 (Conv2D)        (None, 37, 37, 256)       590080    \n",
      "_________________________________________________________________\n",
      "block3_pool (MaxPooling2D)   (None, 18, 18, 256)       0         \n",
      "_________________________________________________________________\n",
      "block4_conv1 (Conv2D)        (None, 18, 18, 512)       1180160   \n",
      "_________________________________________________________________\n",
      "block4_conv2 (Conv2D)        (None, 18, 18, 512)       2359808   \n",
      "_________________________________________________________________\n",
      "block4_conv3 (Conv2D)        (None, 18, 18, 512)       2359808   \n",
      "_________________________________________________________________\n",
      "block4_pool (MaxPooling2D)   (None, 9, 9, 512)         0         \n",
      "_________________________________________________________________\n",
      "block5_conv1 (Conv2D)        (None, 9, 9, 512)         2359808   \n",
      "_________________________________________________________________\n",
      "block5_conv2 (Conv2D)        (None, 9, 9, 512)         2359808   \n",
      "_________________________________________________________________\n",
      "block5_conv3 (Conv2D)        (None, 9, 9, 512)         2359808   \n",
      "_________________________________________________________________\n",
      "block5_pool (MaxPooling2D)   (None, 4, 4, 512)         0         \n",
      "_________________________________________________________________\n",
      "model_3 (Model)              (None, 1)                 2097665   \n",
      "=================================================================\n",
      "Total params: 16,812,353\n",
      "Trainable params: 9,177,089\n",
      "Non-trainable params: 7,635,264\n",
      "_________________________________________________________________\n"
     ]
    }
   ],
   "source": [
    "# Load model\n",
    "new_model = load_model('./models/final_model.h5')\n",
    "new_model.summary()"
   ]
  },
  {
   "cell_type": "code",
   "execution_count": null,
   "metadata": {},
   "outputs": [],
   "source": [
    "'''\n",
    "# Load data\n",
    "input_size = 160\n",
    "\n",
    "x_data = []\n",
    "y_data = []\n",
    "path_data = './data/'\n",
    "\n",
    "# Đọc ảnh thư mục trong sáng, resize ảnh cho phù hợp đầu vào mạng, chuẩn hóa, thêm vào list chứa dữ liệu\n",
    "for i_name in os.listdir(path_data + '0'):\n",
    "    im = cv2.imread(path_data + '0/' + i_name)\n",
    "    im_resize = cv2.resize(im, (input_size, input_size))\n",
    "    im_resize = im_resize/255\n",
    "    x_data.append(im_resize)\n",
    "    y_data.append([0])\n",
    "# Đọc ảnh thư mục gợi cảm, resize ảnh cho phù hợp đầu vào mạng, chuẩn hóa, thêm vào list chứa dữ liệu\n",
    "for i_name in os.listdir(path_data + '1'):\n",
    "    im = cv2.imread(path_data + '1/' + i_name)\n",
    "    im_resize = cv2.resize(im, (input_size, input_size))\n",
    "    im_resize = im_resize/255\n",
    "    x_data.append(im_resize)\n",
    "    y_data.append([1])\n",
    "'''"
   ]
  },
  {
   "cell_type": "code",
   "execution_count": 6,
   "metadata": {},
   "outputs": [
    {
     "name": "stdout",
     "output_type": "stream",
     "text": [
      "(704, 160, 160, 3)\n",
      "(704, 1)\n"
     ]
    }
   ],
   "source": [
    "'''\n",
    "x_data = np.array(x_data)\n",
    "y_data = np.array(y_data)\n",
    "print(x_data.shape)\n",
    "print(y_data.shape)\n",
    "'''"
   ]
  },
  {
   "cell_type": "code",
   "execution_count": 9,
   "metadata": {},
   "outputs": [],
   "source": [
    "'''\n",
    "# Load data\n",
    "x_data = np.load('./data/x_data.npy')\n",
    "y_data = np.load('./data/y_data.npy')\n",
    "'''"
   ]
  },
  {
   "cell_type": "code",
   "execution_count": 10,
   "metadata": {},
   "outputs": [
    {
     "name": "stdout",
     "output_type": "stream",
     "text": [
      "(633, 160, 160, 3)\n",
      "(633, 1)\n",
      "(71, 160, 160, 3)\n",
      "(71, 1)\n"
     ]
    }
   ],
   "source": [
    "'''\n",
    "# Chia dữ liệu ra làm 2 phần: 1 phần để train, 1 phần để đánh giá\n",
    "x_train, x_val, y_train, y_val = train_test_split(x_data, y_data, test_size=0.1, random_state=0)\n",
    "print(x_train.shape)\n",
    "print(y_train.shape)\n",
    "print(x_val.shape)\n",
    "print(y_val.shape)\n",
    "'''"
   ]
  },
  {
   "cell_type": "code",
   "execution_count": 3,
   "metadata": {},
   "outputs": [
    {
     "name": "stdout",
     "output_type": "stream",
     "text": [
      "(633, 150, 150, 3)\n",
      "(633, 1)\n",
      "(71, 150, 150, 3)\n",
      "(71, 1)\n"
     ]
    }
   ],
   "source": [
    "# Load data\n",
    "x_train = np.load('./data/x_train.npy')\n",
    "y_train = np.load('./data/y_train.npy')\n",
    "x_val = np.load('./data/x_val.npy')\n",
    "y_val = np.load('./data/y_val.npy')\n",
    "print(x_train.shape)\n",
    "print(y_train.shape)\n",
    "print(x_val.shape)\n",
    "print(y_val.shape)"
   ]
  },
  {
   "cell_type": "code",
   "execution_count": 16,
   "metadata": {},
   "outputs": [
    {
     "name": "stdout",
     "output_type": "stream",
     "text": [
      "Train on 633 samples, validate on 71 samples\n",
      "Epoch 1/10\n",
      "633/633 [==============================] - 62s 97ms/sample - loss: 1.0921e-10 - accuracy: 1.0000 - val_loss: 5.7076 - val_accuracy: 0.9014\n",
      "Epoch 2/10\n",
      "633/633 [==============================] - 60s 95ms/sample - loss: 0.0020 - accuracy: 0.9984 - val_loss: 5.5680 - val_accuracy: 0.9014\n",
      "Epoch 3/10\n",
      "633/633 [==============================] - 60s 94ms/sample - loss: 0.0176 - accuracy: 0.9984 - val_loss: 5.2527 - val_accuracy: 0.8732\n",
      "Epoch 4/10\n",
      "633/633 [==============================] - 60s 94ms/sample - loss: 7.4565e-09 - accuracy: 1.0000 - val_loss: 5.2474 - val_accuracy: 0.8732\n",
      "Epoch 5/10\n",
      "633/633 [==============================] - 60s 95ms/sample - loss: 2.9023e-13 - accuracy: 1.0000 - val_loss: 5.2473 - val_accuracy: 0.8732\n",
      "Epoch 6/10\n",
      "633/633 [==============================] - 60s 94ms/sample - loss: 1.0259e-08 - accuracy: 1.0000 - val_loss: 5.2473 - val_accuracy: 0.8732\n",
      "Epoch 7/10\n",
      "633/633 [==============================] - 60s 94ms/sample - loss: 8.1724e-04 - accuracy: 1.0000 - val_loss: 5.4301 - val_accuracy: 0.9014\n",
      "Epoch 8/10\n",
      "633/633 [==============================] - 60s 95ms/sample - loss: 4.1283e-09 - accuracy: 1.0000 - val_loss: 5.4915 - val_accuracy: 0.9014\n",
      "Epoch 9/10\n",
      "633/633 [==============================] - 60s 95ms/sample - loss: 1.0337e-06 - accuracy: 1.0000 - val_loss: 5.4917 - val_accuracy: 0.9014\n",
      "Epoch 10/10\n",
      "633/633 [==============================] - 60s 95ms/sample - loss: 0.0061 - accuracy: 0.9984 - val_loss: 5.6186 - val_accuracy: 0.9014\n"
     ]
    }
   ],
   "source": [
    "history = new_model.fit(x_train, y_train, epochs=10, batch_size=16, validation_data=(x_val, y_val))"
   ]
  },
  {
   "cell_type": "code",
   "execution_count": 17,
   "metadata": {},
   "outputs": [
    {
     "data": {
      "text/plain": [
       "<Figure size 576x432 with 0 Axes>"
      ]
     },
     "metadata": {},
     "output_type": "display_data"
    },
    {
     "data": {
      "image/png": "[encoded data removed]",
      "text/plain": [
       "<Figure size 432x288 with 1 Axes>"
      ]
     },
     "metadata": {},
     "output_type": "display_data"
    }
   ],
   "source": [
    "plot_loss_accuracy(history)"
   ]
  },
  {
   "cell_type": "code",
   "execution_count": 18,
   "metadata": {},
   "outputs": [
    {
     "name": "stdout",
     "output_type": "stream",
     "text": [
      "DONE\n"
     ]
    }
   ],
   "source": [
    "new_model.save('./models/new_model.h5')\n",
    "print(\"DONE\")"
   ]
  },
  {
   "cell_type": "code",
   "execution_count": null,
   "metadata": {},
   "outputs": [],
   "source": []
  }
 ],
 "metadata": {
  "kernelspec": {
   "display_name": "tensor2",
   "language": "python",
   "name": "tensor2"
  },
  "language_info": {
   "codemirror_mode": {
    "name": "ipython",
    "version": 3
   },
   "file_extension": ".py",
   "mimetype": "text/x-python",
   "name": "python",
   "nbconvert_exporter": "python",
   "pygments_lexer": "ipython3",
   "version": "3.6.9"
  }
 },
 "nbformat": 4,
 "nbformat_minor": 2
}
